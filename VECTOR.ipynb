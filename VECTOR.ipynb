{
  "nbformat": 4,
  "nbformat_minor": 0,
  "metadata": {
    "colab": {
      "provenance": [],
      "gpuType": "T4"
    },
    "kernelspec": {
      "name": "python3",
      "display_name": "Python 3"
    },
    "language_info": {
      "name": "python"
    },
    "accelerator": "GPU"
  },
  "cells": [
    {
      "cell_type": "code",
      "execution_count": 1,
      "metadata": {
        "colab": {
          "base_uri": "https://localhost:8080/",
          "height": 0
        },
        "id": "zNTTnhokj_ka",
        "outputId": "3e5cce6f-1547-46c5-8be3-f165aaadc10e"
      },
      "outputs": [
        {
          "output_type": "stream",
          "name": "stdout",
          "text": [
            "Writing vector.cu\n"
          ]
        }
      ],
      "source": [
        "%%writefile vector.cu\n",
        " #include <iostream>\n",
        " using namespace std;\n",
        "\n",
        " __global__ void add(int* A, int* B, int* C, int size) {\n",
        "     int tid = blockIdx.x * blockDim.x + threadIdx.x;\n",
        "\n",
        "     if (tid < size) {\n",
        "         C[tid] = A[tid] + B[tid];\n",
        "     }\n",
        " }\n",
        "\n",
        " void initialize(int* vector, int size) {\n",
        "     for (int i = 0; i < size; i++) {\n",
        "        vector[i] = i+1;\n",
        "     }\n",
        " }\n",
        "\n",
        " void print(int* vector, int size) {\n",
        "     for (int i = 0; i < size; i++) {\n",
        "         cout << vector[i] << \" \";\n",
        "     }\n",
        "     cout << endl;\n",
        " }\n",
        "\n",
        " int main() {\n",
        "     int N = 4;\n",
        "     int* A, * B, * C;\n",
        "\n",
        "     int vectorSize = N;\n",
        "     size_t vectorBytes = vectorSize * sizeof(int);\n",
        "\n",
        "     A = new int[vectorSize];\n",
        "     B = new int[vectorSize];\n",
        "     C = new int[vectorSize];\n",
        "\n",
        "     initialize(A, vectorSize);\n",
        "     initialize(B, vectorSize);\n",
        "\n",
        "     cout << \"Vector A: \";\n",
        "     print(A, N);\n",
        "     cout << \"Vector B: \";\n",
        "     print(B, N);\n",
        "\n",
        "     int* X, * Y, * Z;\n",
        "     cudaMalloc(&X, vectorBytes);\n",
        "     cudaMalloc(&Y, vectorBytes);\n",
        "     cudaMalloc(&Z, vectorBytes);\n",
        "\n",
        "     cudaMemcpy(X, A, vectorBytes, cudaMemcpyHostToDevice);\n",
        "    cudaMemcpy(Y, B, vectorBytes, cudaMemcpyHostToDevice);\n",
        "\n",
        "     int threadsPerBlock = 256;\n",
        "     int blocksPerGrid = (N + threadsPerBlock - 1) / threadsPerBlock;\n",
        "\n",
        "     add<<<blocksPerGrid, threadsPerBlock>>>(X, Y, Z, N);\n",
        "\n",
        "     cudaMemcpy(C, Z, vectorBytes, cudaMemcpyDeviceToHost);\n",
        "     cout << \"Addition: \";\n",
        "    print(C, N);\n",
        "\n",
        "    delete[] A;\n",
        "    delete[] B;\n",
        "    delete[] C;\n",
        "\n",
        "     cudaFree(X);\n",
        "     cudaFree(Y);\n",
        "     cudaFree(Z);\n",
        "\n",
        "     return 0;\n",
        " }"
      ]
    },
    {
      "cell_type": "code",
      "source": [
        "!nvcc vector.cu -o vector"
      ],
      "metadata": {
        "id": "4OqVnG6xkEGb"
      },
      "execution_count": 2,
      "outputs": []
    },
    {
      "cell_type": "code",
      "source": [
        "!./vector\n"
      ],
      "metadata": {
        "colab": {
          "base_uri": "https://localhost:8080/",
          "height": 0
        },
        "id": "gAAnqYd-kSzL",
        "outputId": "1c9637f0-51d4-4aef-c9d1-84055b4df9e3"
      },
      "execution_count": 3,
      "outputs": [
        {
          "output_type": "stream",
          "name": "stdout",
          "text": [
            "Vector A: 1 2 3 4 \n",
            "Vector B: 1 2 3 4 \n",
            "Addition: 2 4 6 8 \n"
          ]
        }
      ]
    },
    {
      "cell_type": "code",
      "source": [],
      "metadata": {
        "id": "iHLms0VckWyy"
      },
      "execution_count": null,
      "outputs": []
    }
  ]
}